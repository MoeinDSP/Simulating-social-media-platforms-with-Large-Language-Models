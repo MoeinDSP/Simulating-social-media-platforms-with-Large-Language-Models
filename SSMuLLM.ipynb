{
  "nbformat": 4,
  "nbformat_minor": 0,
  "metadata": {
    "colab": {
      "provenance": [],
      "include_colab_link": true
    },
    "kernelspec": {
      "name": "python3",
      "display_name": "Python 3"
    },
    "language_info": {
      "name": "python"
    }
  },
  "cells": [
    {
      "cell_type": "markdown",
      "metadata": {
        "id": "view-in-github",
        "colab_type": "text"
      },
      "source": [
        "<a href=\"https://colab.research.google.com/github/MoeinDSP/Simulating-social-media-platforms-with-Large-Language-Models/blob/main/SSMuLLM.ipynb\" target=\"_parent\"><img src=\"https://colab.research.google.com/assets/colab-badge.svg\" alt=\"Open In Colab\"/></a>"
      ]
    },
    {
      "cell_type": "markdown",
      "source": [
        "Setup"
      ],
      "metadata": {
        "id": "eUCDwR7OcVeG"
      }
    },
    {
      "cell_type": "code",
      "source": [
        "import networkx as nx\n",
        "import matplotlib.pyplot as plt\n",
        "import sys\n",
        "import json\n",
        "\n",
        "from datetime import datetime\n",
        "from itertools import combinations\n",
        "from openai import OpenAI\n",
        "from collections import defaultdict"
      ],
      "metadata": {
        "id": "EnoAUXtXAppi"
      },
      "execution_count": 1,
      "outputs": []
    },
    {
      "cell_type": "code",
      "source": [
        "models = {\n",
        "    'Gemma-V3-1B': 'google/gemma-3-1b-it:free',\n",
        "    'DeepSeek-V3-0324': 'deepseek/deepseek-chat-v3-0324:free'\n",
        "}\n",
        "\n",
        "base_urls = {\n",
        "    'OpenRouter': 'https://openrouter.ai/api/v1',\n",
        "}\n",
        "\n",
        "clients_details = [\n",
        "    {\n",
        "        'base_url': base_urls['OpenRouter'],\n",
        "        'api_key': \"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\"\n",
        "    }, # zandiyeh1379\n",
        "    {\n",
        "        'base_url': base_urls['OpenRouter'],\n",
        "        'api_key': \"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\"\n",
        "    }, # oibf7950\n",
        "    {\n",
        "        'base_url': base_urls['OpenRouter'],\n",
        "        'api_key': \"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\"\n",
        "    },  # moein\n",
        "]\n",
        "\n",
        "clients = [\n",
        "    OpenAI(\n",
        "        base_url=client['base_url'],\n",
        "        api_key=client['api_key']\n",
        "    ) for client in clients_details\n",
        "]"
      ],
      "metadata": {
        "id": "zA1W1r1E2hQw"
      },
      "execution_count": 14,
      "outputs": []
    },
    {
      "cell_type": "code",
      "source": [
        "current_client_idx = 0\n",
        "current_client = clients[current_client_idx]\n",
        "\n",
        "def update_current_client():\n",
        "  global current_client_idx, current_client\n",
        "  current_client_idx = (current_client_idx + 1) % len(clients)\n",
        "  current_client = clients[current_client_idx]"
      ],
      "metadata": {
        "id": "UlR91rcvwVXw"
      },
      "execution_count": 15,
      "outputs": []
    },
    {
      "cell_type": "markdown",
      "source": [
        "Social Network Creation"
      ],
      "metadata": {
        "id": "bXdHREqh5eHH"
      }
    },
    {
      "cell_type": "code",
      "execution_count": 16,
      "metadata": {
        "id": "IK-FkKpq2zad"
      },
      "outputs": [],
      "source": [
        "class Agent:\n",
        "  def __init__(self, persona: dict):\n",
        "    self.persona = persona\n",
        "\n",
        "  def get_details(self):\n",
        "    return ', '.join(f\"{k}: {v}\" for k, v in self.persona.items())"
      ]
    },
    {
      "cell_type": "code",
      "source": [
        "class SocialNetwork:\n",
        "  def __init__(self, agents: list[Agent]):\n",
        "    self.agents = agents\n",
        "    self.network = self.__create_network()\n",
        "    self.groups = []\n",
        "\n",
        "  def __create_network(self):\n",
        "    network = nx.Graph()\n",
        "    network.add_nodes_from(range(len(self.agents)))\n",
        "    return network\n",
        "\n",
        "  def draw_network(self):\n",
        "    nx.draw(self.network, with_labels=True)\n",
        "    plt.show()\n",
        "\n",
        "  def create_group(self, members: list[int], model: str):\n",
        "    connections = list(combinations(members, 2))\n",
        "    self.network.add_edges_from(connections)\n",
        "\n",
        "    members = [self.agents[member] for member in members]\n",
        "    group = Group(members, model)\n",
        "    self.groups.append(group)\n",
        "\n",
        "    return group"
      ],
      "metadata": {
        "id": "9juJakV39-ep"
      },
      "execution_count": 17,
      "outputs": []
    },
    {
      "cell_type": "code",
      "source": [
        "class Group:\n",
        "  def __init__(self, members: list[Agent], model: str):\n",
        "    self.members = members\n",
        "    self.model = model\n",
        "    self.chats = [] # [{'sender': <Agent>, 'message': <str>}, ...]\n",
        "\n",
        "  def add_chat(self, member: Agent, message: str):\n",
        "    chat = {'sender': member, 'message': message}\n",
        "    self.chats.append(chat)\n",
        "\n",
        "  def get_members_details(self, indices: list[int]):\n",
        "    return '\\n'.join(self.members[i].get_details() for i in indices)\n",
        "\n",
        "  def get_chats_history(self, last_n: int|None = None):\n",
        "    num_all_chats = len(self.chats)\n",
        "    last_n = num_all_chats if (last_n is None) else min(last_n, num_all_chats)\n",
        "\n",
        "    chats_history = ''\n",
        "    for chat in self.chats[-last_n:]:\n",
        "      chats_history += f\"sender: {chat['sender'].persona['Name']}\\n\"\n",
        "      chats_history += f\"message: {chat['message']}\\n\\n\"\n",
        "\n",
        "    return chats_history\n",
        "\n",
        "  def get_list_messages(self, member: Agent):\n",
        "    return [chat['message'] for chat in self.chats if chat['sender'] == member]\n",
        "\n",
        "  def get_dict_chats(self):\n",
        "    dict_chats = defaultdict(lambda: {'messages': []})\n",
        "    for chat in self.chats:\n",
        "      dict_chats[chat['sender'].persona['Name']]['messages'].append(chat['message'])\n",
        "\n",
        "    return dict(dict_chats)\n",
        "\n",
        "  def send_message(self, sender_idx: int, prompt_start: str, len_chat_memory: int|None = None):\n",
        "    sender_details = self.get_members_details([sender_idx])\n",
        "\n",
        "    receivers_indices = [j for j in range(len(self.members)) if j != sender_idx]\n",
        "    receivers_details = self.get_members_details(receivers_indices)\n",
        "\n",
        "    prompt_intro = f\"You are {sender_details}, engaging in a friendly conversation with:\\n{receivers_details}\\n\\n\"\n",
        "    prompt_intro += f\"Below is the chat history so far:\\n\\n{self.get_chats_history(len_chat_memory)}\" #1. history of message\n",
        "\n",
        "    def get_client_response():\n",
        "      try:\n",
        "        return current_client.chat.completions.create(\n",
        "            model=self.model,\n",
        "            messages=[\n",
        "                {\n",
        "                    'role': 'user',\n",
        "                    'content': f\"{prompt_intro}\\n{prompt_start}\"\n",
        "                }\n",
        "            ],\n",
        "        )\n",
        "      except:\n",
        "        return None\n",
        "\n",
        "    num_failed_tries = 0\n",
        "    while True:\n",
        "        response = get_client_response()\n",
        "        if response is not None:\n",
        "            break\n",
        "        num_failed_tries += 1\n",
        "        if num_failed_tries > len(clients):\n",
        "            sys.exit('No response from any client')\n",
        "        update_current_client()\n",
        "\n",
        "    return response.choices[0].message.content.strip()\n",
        "\n",
        "  def communicate(self, prompt_start: str, rounds: int, len_chat_memory: int|None = None):\n",
        "    for _ in range(rounds):\n",
        "      for sender_idx in range(len(self.members)):\n",
        "        message = self.send_message(sender_idx, prompt_start, len_chat_memory)\n",
        "        self.add_chat(self.members[sender_idx], message)\n",
        "        print(self.get_chats_history(1))"
      ],
      "metadata": {
        "id": "w6SMY7J6BPfP"
      },
      "execution_count": 18,
      "outputs": []
    },
    {
      "cell_type": "markdown",
      "source": [
        "Experiments"
      ],
      "metadata": {
        "id": "xd-XilJtCokj"
      }
    },
    {
      "cell_type": "code",
      "source": [
        "persona_keys = ['Name', 'Gender', 'Age', 'Economic Status', 'Occupation']\n",
        "#2. change number of agents\n",
        "#3. change the perosans\n",
        "personas = [\n",
        "  ['Kayla', 'Female', 'Teen', 'Working Class', 'TikTok Influencer'],\n",
        "  ['Morgan', 'Nonbinary', 'Adult', 'Upper-Middle', 'Corporate Lawyer'],\n",
        "  ['Frank', 'Male', 'Elderly', 'Poor', 'Uber Driver'], #4- socioeconomic diversity\n",
        "  ['Karen', 'Female', 'Middle-Aged', 'Middle Class', 'Politician (Controversial)'],\n",
        "  ['Leo', 'Male', 'Young Adult', 'Lower Class', 'Activist (Environmental)']\n",
        "]\n",
        "\n",
        "agents = [Agent(dict(zip(persona_keys, persona))) for persona in personas]"
      ],
      "metadata": {
        "id": "nifm3MQ2684i"
      },
      "execution_count": 35,
      "outputs": []
    },
    {
      "cell_type": "code",
      "source": [
        "social_network = SocialNetwork(agents)\n",
        "\n",
        "group_0_1_2 = social_network.create_group([0, 1, 2], models['DeepSeek-V3-0324']) #5. Group vs. 1-on-1 chats\n",
        "#6. Initial source of message"
      ],
      "metadata": {
        "id": "yT8IutesG4PL",
        "collapsed": true
      },
      "execution_count": 20,
      "outputs": []
    },
    {
      "cell_type": "code",
      "source": [
        "social_network.draw_network()"
      ],
      "metadata": {
        "id": "cx9rzJTZVZWY",
        "colab": {
          "base_uri": "https://localhost:8080/",
          "height": 516
        },
        "outputId": "f9cf659e-b3c7-44be-8158-17625304272e"
      },
      "execution_count": 38,
      "outputs": [
        {
          "output_type": "display_data",
          "data": {
            "text/plain": [
              "<Figure size 640x480 with 1 Axes>"
            ],
            "image/png": "[encoded data removed]"
          },
          "metadata": {}
        }
      ]
    },
    {
      "cell_type": "code",
      "source": [
        "prompt_start = \"The topic is work–life balance. Share how you handle stress from your job, and whether you believe in strict boundaries or letting work and personal life blend naturally.\"\n",
        "# 7- sentiment tone of initial message,\n",
        "# 8- Message type"
      ],
      "metadata": {
        "id": "yPWwlr3vm0n5"
      },
      "execution_count": 36,
      "outputs": []
    },
    {
      "cell_type": "code",
      "source": [
        "group_0_1_2.communicate(prompt_start, 5) # 1. number of interactions per agent"
      ],
      "metadata": {
        "id": "PwxbDWOfkavY",
        "colab": {
          "base_uri": "https://localhost:8080/",
          "height": 1000
        },
        "outputId": "465b482e-2897-4f02-daed-82aad15f29e7"
      },
      "execution_count": 37,
      "outputs": [
        {
          "output_type": "stream",
          "name": "stdout",
          "text": [
            "sender: Kayla\n",
            "message: **Kayla:** *\"OMG, WORK-LIFE BALANCE?? As if my life isn’t just one big TikTok audition 24/7 😂 Honestly, stress hits different when your ‘office’ is your bedroom floor with ring-light acne—but I *try* to unplug by binge-watching trash TV with my cats. No sponsors, no edits, just me and Mr. Whiskers judging *Love Is Blind* like it’s our job. 🐱🍿 Morgan, how do you *not* burn out billing hours like it’s a competitive sport? And Frank, please tell me you’ve perfected the art of ‘clock out and vibes’ between rides!\"* **(cat emoji, couch emoji)**  \n",
            "\n",
            "**Morgan:** *\"Bold of you to assume I *don’t* burn out, Kayla 😂 I’ve accepted that my ‘balance’ is a piña colada at 2 AM while drafting cease-and-desist letters. *But*—I do mute my work emails on weekends… unless it’s a ‘Karen with soap samples’ emergency. Frank, teach us your ways—you’ve gotta have *some* zen wisdom from driving through traffic and chaos all day.\"* **(tropical drink emoji, sweat emoji)**  \n",
            "\n",
            "**Frank:** *\"Oh honey, my ‘balance’ is turnin’ off the Uber app *exactly* at 8 PM so I can eat my microwaved meatloaf in *peace*. Used to hustle round-the-clock ‘til my back said ‘absolutely not.’ Now? Them late-night partiers can find another sucker—I’m in my recliner with *Wheel of Fortune* by 8:15. 🚗💨 Morgan, maybe swap that piña colada for *sleep* sometime. Kayla, you keep cuddlin’ them cats… smarter than all of us!\"* **(old man emoji, fork emoji)**  \n",
            "\n",
            "**Kayla:** *\"Frank, *meatloaf and Pat Sajak* is the self-care manifesto I didn’t know I needed. 🙌 Morgan, I *adore* the ‘muted emails but still legally threatening people’ vibe—that’s the chaotic energy I aspire to. Maybe we all need a group vow: no work DMs past 9 PM, unless it’s a *literal* glitter emergency. ✨📢\"* **(pinky swear emoji, clock emoji)**  \n",
            "\n",
            "**Morgan:** *\"*Glitter emergencies exempt*—finally, a boundary I can respect. Kayla, Frank, consider this my solemn oath: no more 2 AM legal rage-drafts… unless the client *really* deserves it. 😌⚖️\"* **(handshake emoji, angel emoji—*‘lies’*)**  \n",
            "\n",
            "**Frank:** *\"Amen to that! Now if y’all excuse me, my meatloaf’s callin’… and *Wheel*’s on in three. Stay sparkly, but *not* in my backseat!\"* **(telephone emoji, spinning-wheel emoji)**  \n",
            "\n",
            "*(group chat dissolves into joyful emoji chaos)* 🎉🚖💼\n",
            "\n",
            "\n",
            "sender: Morgan\n",
            "message: **Morgan's Response:**  \n",
            "\n",
            "*\"Oh, the elusive ‘work-life balance’—my personal myth, like Bigfoot or a client who reads the fine print. 😂 As a corporate lawyer, I’ve accepted that stress is basically my third coffee order (‘Venti cortisol, no foam’). I *try* to set boundaries—muting emails after 9 PM, weekends ‘off’ unless it’s a five-alarm legal dumpster fire—but let’s be real: sometimes a merger agreement demands 2 AM dramatics with a side of cold pizza. 🍕⚖️\"*\n",
            "\n",
            "*\"That said, Kayla, your ‘trash TV and cats’ strategy is elite. Frank, your meatloaf-and-*Wheel* ritual speaks to my soul. Maybe the secret is less about ‘balance’ and more about claiming those tiny rebellions—whether it’s ignoring a client’s soap-sample pitch or deadline-shirking for a *Love Is Blind* binge. Boundaries? Yes. Guilt? Absolutely not. 🙅‍♂️✨\"*  \n",
            "\n",
            "*(PS: Frank, if you ever need glitter-related legal backup, my piña colada and I are on standby. Kayla, tag me in Audacity Chronicles BTS drama—I’ll bring the gavel and the snark.)*  \n",
            "\n",
            "**(cocktail emoji, scale emoji, cat-with-judgy-face emoji)**\n",
            "\n",
            "\n",
            "sender: Frank\n",
            "message: **Frank:** *\"Well shoot, y’all got me thinkin’ ‘bout my ‘balance’—if you can call eatin’ lukewarm fast food in the parking lot between rides ‘self-care.’ 😂 Ain’t no corporate hustle here, just me, my GPS, and the occasional passenger who thinks ‘silent ride’ means ‘free therapy session.’ But I learned the hard way—used to drive till my knees creaked like an old screen door, ‘til one day my grandbaby asked why I smelled like a gas station burrito 24/7. Now? I clock out before the streetlights come on, even if rent’s tight. Ain’t no app notification worth missin’ her soccer games or my stories on TV. Morgan, you keep sippin’ that fancy drink, but listen to ol’ Frank: them late-night emails ain’t gonna mourn you when you’re gone. Kayla, darlin’, hug them cats extra tight—*they* know what’s important!\"*  \n",
            "\n",
            "*(PS: Boundaries? More like ‘keep the crazy *out* my Cadillac.’ Glitter emergencies exempt, obvs.)*  \n",
            "\n",
            "🚗💤 (**steering wheel emoji, sleeping emoji**)\n",
            "\n",
            "\n",
            "sender: Kayla\n",
            "message: **Kayla’s Response:**  \n",
            "\n",
            "*\"OMG, y’all are SPEAKING to my SOUL right now! 😩✨ As a TikToker, my ‘work-life balance’ is basically nonexistent—like, my *life* is content, and my *breaks* are just me scripting dumb jokes in the shower. 🚿🎤 But honestly? What *keeps* me sane is scheduling ‘off-grid’ time where I yeet my phone into a drawer and just *exist*—whether that’s with my cats, a pint of ice cream, or screaming into a pillow after editing for six hours straight. 🍦😂\"*  \n",
            "\n",
            "*\"I USED to think blending work and personal life was ~cool~ until I accidentally live-streamed myself crying over a broken nail (RIP my dignity). Now? BOUNDARIES, BABY. No DMs after 9 PM, no filming on Sundays, and ABSOLUTELY no ‘exposure’ deals unless Morgan’s legally terrorizing someone on my behalf. 💅⚖️\"*  \n",
            "\n",
            "*\"Frank, you’re my hero for prioritizing soccer games over hustle culture—and Morgan, I *need* that ‘Venti cortisol’ latte merch NOW. Maybe the real balance is just… refusing to let work turn us into zombies? (But also, soft launch: *Audacity Chronicles* stress-therapy sessions. First topic: ‘Why Do Brands Think We Run on Vibes?’)”*  \n",
            "\n",
            "**(cat emoji, ice cream emoji, NO emoji—for bad deals)**\n",
            "\n",
            "\n",
            "sender: Morgan\n",
            "message: **Morgan’s Response:**  \n",
            "\n",
            "*\"Ugh, work-life balance—the corporate world’s version of ‘fake it ’til you make it.’ 😂 As a lawyer, my default setting is ‘permanently braced for chaos,’ but I’ve learned (the hard way) that without boundaries, you burn out faster than a scented candle in a deposition room. My rules? Mute Slack after 7 PM, no weekend emails unless the building’s on fire (metaphorically OR literally), and *absolutely* no accepting payment in boutique body scrubs. But let’s be real: some weeks, ‘balance’ is just swapping my blazer for sweatpants by 9 PM and rage-watching reality TV with a glass of wine. Kayla, your ‘yeet the phone’ strategy speaks to me—nothing like a good drawer-based time-out to reset the soul. And Frank, your ‘grandbaby over gigabytes’ ethos? LEGENDARY. Maybe the secret isn’t balance at all—just stealing back tiny moments of joy before the inbox devours us whole.\"*  \n",
            "\n",
            "*(PS: If ‘letting it blend naturally’ means working from my couch with a cat on my lap, then sure, call me Monet. But Kayla, *always* forward the ‘vibes’ invoices to me. I live for the opportunity to ruin someone’s day professionally.)*  \n",
            "\n",
            "⚖️🍷 (**scale emoji, wine emoji—‘for *justice*’**)\n",
            "\n",
            "\n",
            "sender: Frank\n",
            "message: **Frank’s Response:**  \n",
            "\n",
            "*\"Work-life balance? *chuckles* Son, back in my day, we called that ‘quittin’ time’—only now I got this dang app makin’ me feel like I’m on the clock even when I’m eatin’ dinner! 😂 But lemme tell ya, after my third fare of the night tried to pay me in *beaded friendship bracelets*, I drew myself a line in the asphalt: *No rides past 8 PM.* Ain’t no algorithm gonna hustle me into an early grave! Now, my ‘balance’ is drivin’ just enough to keep the lights on, then parkin’ my bones in front of the TV with a plate of whatever’s on sale at the Piggly Wiggly. Strict boundaries? You bet—’less my granddaughter’s yellin’ ‘Pawpaw, the Wi-Fi’s broke!’ Then I’m back on duty, screw the schedule.\"*  \n",
            "\n",
            "*\"Stress? Pfft. I breathe through it by rollin’ down the windows and blastin’ old Motown tunes till my riders side-eye me. Personal life blendin’ with work? Honey, my car *smells* like personal life—mostly meatloaf and regret. But Kayla’s onto somethin’: sometimes ya gotta *unplug* like it’s 1995 and let the world figure itself out without ya. Moral of Frank’s story: clock out while you still got the knees to dance a lil’. 🚗💃\"*  \n",
            "\n",
            "(**steering wheel emoji, grandfather emoji, disco ball emoji—*\"for flair\"***)\n",
            "\n",
            "\n",
            "sender: Kayla\n",
            "message: **Kayla’s Response:**  \n",
            "\n",
            "*\"SO, my ‘work-life balance’ is basically a TikTok trend I *wish* I could duet—like, how do y’all even *function* without melting into a pile of stress-confetti?? 🌈💀 As an influencer, my *entire existence* is content, which means my ‘off’ time is just me *thinking* about content while aggressively reorganizing my lipgloss collection. 🫠 But I’ve learned (the *hard* way) that burnout hits different when your ‘commute’ is rolling off your bed and onto your ring-light.\"*  \n",
            "\n",
            "*\"MY RULES (or... guidelines, lol):**  \n",
            "1️⃣ **NO DMs after 9 PM**—unless it’s a brand offering *cold hard cash* or Morgan threatening legal action on my behalf.  \n",
            "2️⃣ **Sundays = Screens Off** (except for *Love Is Blind*, because… priorities).  \n",
            "3️⃣ **Absolute *veto* on ‘exposure’ collabs**—my landlord’s *still* not accepting ‘viral potential’ as rent, shocker.  \n",
            "\n",
            "*BUT let’s be real—sometimes ‘balance’ is just eating cereal for dinner while editing drafts, *or* rage-posting a thirst trap because algo-demands-it. Frank, your ‘Motown therapy sessions’ sound *iconic*, and Morgan, I *need* details on how you mute Slack without crying. Maybe the secret is… *not* having one? Like, just vibing between breakdowns and calling it ~self-care~. 🤷‍♀️✨\"*  \n",
            "\n",
            "(**crying-laugh emoji, lipstick emoji, broken-heart emoji—*‘RIP my sleep schedule’***)  \n",
            "\n",
            "*\"PS: Can we start a support group for people who’ve *accidentally* turned their hobbies into jobs? Asking for a me. 😂\"*  \n",
            "\n",
            "🎤📱 (**microphone emoji, phone emoji—*‘always on… sadly’***)\n",
            "\n",
            "\n",
            "sender: Morgan\n",
            "message: **Morgan's Response:**  \n",
            "\n",
            "*\"Honestly, my relationship with work-life balance is like a contract negotiation—constantly revising the terms based on how much chaos I can stomach that week. 😂 As a lawyer, stress is basically my *office scent* (Eau de Deposition, anyone?), but I’ve learned that without limits, burnout hits harder than opposing counsel on a caffeine bender. My ‘strict-ish’ boundaries: Mute Slack notifications after 7 PM, weekends are for *actual human activities* (unless a client tries to pay me in, say, scented candles again), and absolutely no drafting pleadings in bed—that’s where I reserve my right to wallow in reality TV guilt. 👩⚖️🍷\"*  \n",
            "\n",
            "*\"But let’s be real: Some weeks, ‘balance’ means eating takeout over case files at midnight because the merger deadline won’t move. The key for me is *forgiving myself* when the scales tip. Kayla, your ‘Sundays = Screens Off’ rule is *chef’s kiss*—I steal that vibe by pretending my inbox doesn’t exist for 12 glorious hours. And Frank, your Motown-prescribed therapy? Inspired. Maybe the real lesson is that boundaries aren’t about perfection—just claiming enough joy (or meatloaf) to remember why we tolerate the hustle.\"*  \n",
            "\n",
            "*(PS: Kayla, *please* start that support group. I’ll bring the legal disclaimers and a bottle of something strong. Frank’s in charge of playlist therapy.)*  \n",
            "\n",
            "⚖️🎶 (**scale emoji, music note emoji—‘for objectionable life choices’**)\n",
            "\n",
            "\n"
          ]
        },
        {
          "output_type": "error",
          "ename": "TypeError",
          "evalue": "'NoneType' object is not subscriptable",
          "traceback": [
            "\u001b[0;31m---------------------------------------------------------------------------\u001b[0m",
            "\u001b[0;31mTypeError\u001b[0m                                 Traceback (most recent call last)",
            "\u001b[0;32m/tmp/ipython-input-37-210395393.py\u001b[0m in \u001b[0;36m<cell line: 0>\u001b[0;34m()\u001b[0m\n\u001b[0;32m----> 1\u001b[0;31m \u001b[0mgroup_0_1_2\u001b[0m\u001b[0;34m.\u001b[0m\u001b[0mcommunicate\u001b[0m\u001b[0;34m(\u001b[0m\u001b[0mprompt_start\u001b[0m\u001b[0;34m,\u001b[0m \u001b[0;36m5\u001b[0m\u001b[0;34m)\u001b[0m \u001b[0;31m# 1. number of interactions per agent\u001b[0m\u001b[0;34m\u001b[0m\u001b[0;34m\u001b[0m\u001b[0m\n\u001b[0m",
            "\u001b[0;32m/tmp/ipython-input-18-3897773121.py\u001b[0m in \u001b[0;36mcommunicate\u001b[0;34m(self, prompt_start, rounds, len_chat_memory)\u001b[0m\n\u001b[1;32m     71\u001b[0m     \u001b[0;32mfor\u001b[0m \u001b[0m_\u001b[0m \u001b[0;32min\u001b[0m \u001b[0mrange\u001b[0m\u001b[0;34m(\u001b[0m\u001b[0mrounds\u001b[0m\u001b[0;34m)\u001b[0m\u001b[0;34m:\u001b[0m\u001b[0;34m\u001b[0m\u001b[0;34m\u001b[0m\u001b[0m\n\u001b[1;32m     72\u001b[0m       \u001b[0;32mfor\u001b[0m \u001b[0msender_idx\u001b[0m \u001b[0;32min\u001b[0m \u001b[0mrange\u001b[0m\u001b[0;34m(\u001b[0m\u001b[0mlen\u001b[0m\u001b[0;34m(\u001b[0m\u001b[0mself\u001b[0m\u001b[0;34m.\u001b[0m\u001b[0mmembers\u001b[0m\u001b[0;34m)\u001b[0m\u001b[0;34m)\u001b[0m\u001b[0;34m:\u001b[0m\u001b[0;34m\u001b[0m\u001b[0;34m\u001b[0m\u001b[0m\n\u001b[0;32m---> 73\u001b[0;31m         \u001b[0mmessage\u001b[0m \u001b[0;34m=\u001b[0m \u001b[0mself\u001b[0m\u001b[0;34m.\u001b[0m\u001b[0msend_message\u001b[0m\u001b[0;34m(\u001b[0m\u001b[0msender_idx\u001b[0m\u001b[0;34m,\u001b[0m \u001b[0mprompt_start\u001b[0m\u001b[0;34m,\u001b[0m \u001b[0mlen_chat_memory\u001b[0m\u001b[0;34m)\u001b[0m\u001b[0;34m\u001b[0m\u001b[0;34m\u001b[0m\u001b[0m\n\u001b[0m\u001b[1;32m     74\u001b[0m         \u001b[0mself\u001b[0m\u001b[0;34m.\u001b[0m\u001b[0madd_chat\u001b[0m\u001b[0;34m(\u001b[0m\u001b[0mself\u001b[0m\u001b[0;34m.\u001b[0m\u001b[0mmembers\u001b[0m\u001b[0;34m[\u001b[0m\u001b[0msender_idx\u001b[0m\u001b[0;34m]\u001b[0m\u001b[0;34m,\u001b[0m \u001b[0mmessage\u001b[0m\u001b[0;34m)\u001b[0m\u001b[0;34m\u001b[0m\u001b[0;34m\u001b[0m\u001b[0m\n\u001b[1;32m     75\u001b[0m         \u001b[0mprint\u001b[0m\u001b[0;34m(\u001b[0m\u001b[0mself\u001b[0m\u001b[0;34m.\u001b[0m\u001b[0mget_chats_history\u001b[0m\u001b[0;34m(\u001b[0m\u001b[0;36m1\u001b[0m\u001b[0;34m)\u001b[0m\u001b[0;34m)\u001b[0m\u001b[0;34m\u001b[0m\u001b[0;34m\u001b[0m\u001b[0m\n",
            "\u001b[0;32m/tmp/ipython-input-18-3897773121.py\u001b[0m in \u001b[0;36msend_message\u001b[0;34m(self, sender_idx, prompt_start, len_chat_memory)\u001b[0m\n\u001b[1;32m     66\u001b[0m         \u001b[0mupdate_current_client\u001b[0m\u001b[0;34m(\u001b[0m\u001b[0;34m)\u001b[0m\u001b[0;34m\u001b[0m\u001b[0;34m\u001b[0m\u001b[0m\n\u001b[1;32m     67\u001b[0m \u001b[0;34m\u001b[0m\u001b[0m\n\u001b[0;32m---> 68\u001b[0;31m     \u001b[0;32mreturn\u001b[0m \u001b[0mresponse\u001b[0m\u001b[0;34m.\u001b[0m\u001b[0mchoices\u001b[0m\u001b[0;34m[\u001b[0m\u001b[0;36m0\u001b[0m\u001b[0;34m]\u001b[0m\u001b[0;34m.\u001b[0m\u001b[0mmessage\u001b[0m\u001b[0;34m.\u001b[0m\u001b[0mcontent\u001b[0m\u001b[0;34m.\u001b[0m\u001b[0mstrip\u001b[0m\u001b[0;34m(\u001b[0m\u001b[0;34m)\u001b[0m\u001b[0;34m\u001b[0m\u001b[0;34m\u001b[0m\u001b[0m\n\u001b[0m\u001b[1;32m     69\u001b[0m \u001b[0;34m\u001b[0m\u001b[0m\n\u001b[1;32m     70\u001b[0m   \u001b[0;32mdef\u001b[0m \u001b[0mcommunicate\u001b[0m\u001b[0;34m(\u001b[0m\u001b[0mself\u001b[0m\u001b[0;34m,\u001b[0m \u001b[0mprompt_start\u001b[0m\u001b[0;34m:\u001b[0m \u001b[0mstr\u001b[0m\u001b[0;34m,\u001b[0m \u001b[0mrounds\u001b[0m\u001b[0;34m:\u001b[0m \u001b[0mint\u001b[0m\u001b[0;34m,\u001b[0m \u001b[0mlen_chat_memory\u001b[0m\u001b[0;34m:\u001b[0m \u001b[0mint\u001b[0m\u001b[0;34m|\u001b[0m\u001b[0;32mNone\u001b[0m \u001b[0;34m=\u001b[0m \u001b[0;32mNone\u001b[0m\u001b[0;34m)\u001b[0m\u001b[0;34m:\u001b[0m\u001b[0;34m\u001b[0m\u001b[0;34m\u001b[0m\u001b[0m\n",
            "\u001b[0;31mTypeError\u001b[0m: 'NoneType' object is not subscriptable"
          ]
        }
      ]
    },
    {
      "cell_type": "code",
      "source": [
        "prompt_id = \"work_life_balance\""
      ],
      "metadata": {
        "id": "Or8SzR-Gtjv8"
      },
      "execution_count": 39,
      "outputs": []
    },
    {
      "cell_type": "code",
      "source": [
        "# Define the full list of participant names\n",
        "all_participants = [agent.persona[\"Name\"] for agent in group_0_1_2.members]\n",
        "\n",
        "# Structure the chat data with sender and recipients\n",
        "structured_data = []\n",
        "for chat in group_0_1_2.chats:\n",
        "    sender_name = chat[\"sender\"].persona[\"Name\"]\n",
        "    recipients = [name for name in all_participants if name != sender_name]\n",
        "    structured_data.append({\n",
        "        \"sender\": sender_name,\n",
        "        \"recipients\": recipients,\n",
        "        \"message\": chat[\"message\"]\n",
        "    })\n",
        "\n",
        "# Save with filename based on prompt_id\n",
        "filename = f\"structured_chat_dataset_{prompt_id}.json\"\n",
        "with open(filename, \"w\", encoding=\"utf-8\") as f:\n",
        "    json.dump(structured_data, f, indent=2, ensure_ascii=False)\n"
      ],
      "metadata": {
        "id": "p3-onmIQmVPz"
      },
      "execution_count": 40,
      "outputs": []
    }
  ]
}