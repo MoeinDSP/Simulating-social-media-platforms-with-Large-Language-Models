{
  "nbformat": 4,
  "nbformat_minor": 0,
  "metadata": {
    "colab": {
      "provenance": []
    },
    "kernelspec": {
      "name": "python3",
      "display_name": "Python 3"
    },
    "language_info": {
      "name": "python"
    }
  },
  "cells": [
    {
      "cell_type": "markdown",
      "source": [
        "Setup"
      ],
      "metadata": {
        "id": "eUCDwR7OcVeG"
      }
    },
    {
      "cell_type": "code",
      "source": [
        "import networkx as nx\n",
        "import matplotlib.pyplot as plt\n",
        "import sys\n",
        "import json\n",
        "\n",
        "from datetime import datetime\n",
        "from itertools import combinations\n",
        "from openai import OpenAI\n",
        "from collections import defaultdict"
      ],
      "metadata": {
        "id": "EnoAUXtXAppi"
      },
      "execution_count": null,
      "outputs": []
    },
    {
      "cell_type": "code",
      "source": [
        "models = {\n",
        "    'Gemma-V3-1B': 'google/gemma-3-1b-it:free',\n",
        "    'DeepSeek-V3-0324': 'deepseek/deepseek-chat-v3-0324:free'\n",
        "}\n",
        "\n",
        "base_urls = {\n",
        "    'OpenRouter': 'https://openrouter.ai/api/v1',\n",
        "}\n",
        "\n",
        "clients_details = [\n",
        "    {\n",
        "        'base_url': base_urls['OpenRouter'],\n",
        "        'api_key': \"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\"\n",
        "    }, # zandiyeh1379\n",
        "    {\n",
        "        'base_url': base_urls['OpenRouter'],\n",
        "        'api_key': \"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\"\n",
        "    }, # oibf7950\n",
        "    {\n",
        "        'base_url': base_urls['OpenRouter'],\n",
        "        'api_key': \"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\"\n",
        "    },  # moein\n",
        "]\n",
        "\n",
        "clients = [\n",
        "    OpenAI(\n",
        "        base_url=client['base_url'],\n",
        "        api_key=client['api_key']\n",
        "    ) for client in clients_details\n",
        "]"
      ],
      "metadata": {
        "id": "zA1W1r1E2hQw"
      },
      "execution_count": null,
      "outputs": []
    },
    {
      "cell_type": "code",
      "source": [
        "current_client_idx = 0\n",
        "current_client = clients[current_client_idx]\n",
        "\n",
        "def update_current_client():\n",
        "  global current_client_idx, current_client\n",
        "  current_client_idx = (current_client_idx + 1) % len(clients)\n",
        "  current_client = clients[current_client_idx]"
      ],
      "metadata": {
        "id": "UlR91rcvwVXw"
      },
      "execution_count": null,
      "outputs": []
    },
    {
      "cell_type": "markdown",
      "source": [
        "Social Network Creation"
      ],
      "metadata": {
        "id": "bXdHREqh5eHH"
      }
    },
    {
      "cell_type": "code",
      "execution_count": null,
      "metadata": {
        "id": "IK-FkKpq2zad"
      },
      "outputs": [],
      "source": [
        "class Agent:\n",
        "  def __init__(self, persona: dict):\n",
        "    self.persona = persona\n",
        "\n",
        "  def get_details(self):\n",
        "    return ', '.join(f\"{k}: {v}\" for k, v in self.persona.items())"
      ]
    },
    {
      "cell_type": "code",
      "source": [
        "class SocialNetwork:\n",
        "  def __init__(self, agents: list[Agent]):\n",
        "    self.agents = agents\n",
        "    self.network = self.__create_network()\n",
        "    self.groups = []\n",
        "\n",
        "  def __create_network(self):\n",
        "    network = nx.Graph()\n",
        "    network.add_nodes_from(range(len(self.agents)))\n",
        "    return network\n",
        "\n",
        "  def draw_network(self):\n",
        "    nx.draw(self.network, with_labels=True)\n",
        "    plt.show()\n",
        "\n",
        "  def create_group(self, members: list[int], model: str):\n",
        "    connections = list(combinations(members, 2))\n",
        "    self.network.add_edges_from(connections)\n",
        "\n",
        "    members = [self.agents[member] for member in members]\n",
        "    group = Group(members, model)\n",
        "    self.groups.append(group)\n",
        "\n",
        "    return group"
      ],
      "metadata": {
        "id": "9juJakV39-ep"
      },
      "execution_count": null,
      "outputs": []
    },
    {
      "cell_type": "code",
      "source": [
        "class Group:\n",
        "  def __init__(self, members: list[Agent], model: str):\n",
        "    self.members = members\n",
        "    self.model = model\n",
        "    self.chats = [] # [{'sender': <Agent>, 'message': <str>}, ...]\n",
        "\n",
        "  def add_chat(self, member: Agent, message: str):\n",
        "    chat = {'sender': member, 'message': message}\n",
        "    self.chats.append(chat)\n",
        "\n",
        "  def get_members_details(self, indices: list[int]):\n",
        "    return '\\n'.join(self.members[i].get_details() for i in indices)\n",
        "\n",
        "  def get_chats_history(self, last_n: int|None = None):\n",
        "    num_all_chats = len(self.chats)\n",
        "    last_n = num_all_chats if (last_n is None) else min(last_n, num_all_chats)\n",
        "\n",
        "    chats_history = ''\n",
        "    for chat in self.chats[-last_n:]:\n",
        "      chats_history += f\"sender: {chat['sender'].persona['Name']}\\n\"\n",
        "      chats_history += f\"message: {chat['message']}\\n\\n\"\n",
        "\n",
        "    return chats_history\n",
        "\n",
        "  def get_list_messages(self, member: Agent):\n",
        "    return [chat['message'] for chat in self.chats if chat['sender'] == member]\n",
        "\n",
        "  def get_dict_chats(self):\n",
        "    dict_chats = defaultdict(lambda: {'messages': []})\n",
        "    for chat in self.chats:\n",
        "      dict_chats[chat['sender'].persona['Name']]['messages'].append(chat['message'])\n",
        "\n",
        "    return dict(dict_chats)\n",
        "\n",
        "  def send_message(self, sender_idx: int, prompt_start: str, len_chat_memory: int|None = None):\n",
        "    sender_details = self.get_members_details([sender_idx])\n",
        "\n",
        "    receivers_indices = [j for j in range(len(self.members)) if j != sender_idx]\n",
        "    receivers_details = self.get_members_details(receivers_indices)\n",
        "\n",
        "    prompt_intro = f\"You are {sender_details}, engaging in a friendly conversation with:\\n{receivers_details}\\n\\n\"\n",
        "    prompt_intro += f\"Below is the chat history so far:\\n\\n{self.get_chats_history(len_chat_memory)}\" #1. history of message\n",
        "\n",
        "    def get_client_response():\n",
        "      try:\n",
        "        return current_client.chat.completions.create(\n",
        "            model=self.model,\n",
        "            messages=[\n",
        "                {\n",
        "                    'role': 'user',\n",
        "                    'content': f\"{prompt_intro}\\n{prompt_start}\"\n",
        "                }\n",
        "            ],\n",
        "        )\n",
        "      except:\n",
        "        return None\n",
        "\n",
        "    num_failed_tries = 0\n",
        "    while True:\n",
        "        response = get_client_response()\n",
        "        if response is not None:\n",
        "            break\n",
        "        num_failed_tries += 1\n",
        "        if num_failed_tries > len(clients):\n",
        "            sys.exit('No response from any client')\n",
        "        update_current_client()\n",
        "\n",
        "    return response.choices[0].message.content.strip()\n",
        "\n",
        "  def communicate(self, prompt_start: str, rounds: int, len_chat_memory: int|None = None):\n",
        "    for _ in range(rounds):\n",
        "      for sender_idx in range(len(self.members)):\n",
        "        message = self.send_message(sender_idx, prompt_start, len_chat_memory)\n",
        "        self.add_chat(self.members[sender_idx], message)\n",
        "        print(self.get_chats_history(1))"
      ],
      "metadata": {
        "id": "w6SMY7J6BPfP"
      },
      "execution_count": null,
      "outputs": []
    },
    {
      "cell_type": "markdown",
      "source": [
        "Experiments"
      ],
      "metadata": {
        "id": "xd-XilJtCokj"
      }
    },
    {
      "cell_type": "code",
      "source": [
        "persona_keys = ['Name', 'Gender', 'Age', 'Economic Status', 'Occupation']\n",
        "#2. change number of agents\n",
        "#3. change the perosans\n",
        "personas = [\n",
        "  ['Kayla', 'Female', 'Teen', 'Working Class', 'TikTok Influencer'],\n",
        "  ['Morgan', 'Nonbinary', 'Adult', 'Upper-Middle', 'Corporate Lawyer'],\n",
        "  ['Frank', 'Male', 'Elderly', 'Poor', 'Uber Driver'], #4- socioeconomic diversity\n",
        "  ['Karen', 'Female', 'Middle-Aged', 'Middle Class', 'Politician (Controversial)'],\n",
        "  ['Leo', 'Male', 'Young Adult', 'Lower Class', 'Activist (Environmental)']\n",
        "]\n",
        "\n",
        "agents = [Agent(dict(zip(persona_keys, persona))) for persona in personas]"
      ],
      "metadata": {
        "id": "nifm3MQ2684i"
      },
      "execution_count": null,
      "outputs": []
    },
    {
      "cell_type": "code",
      "source": [
        "social_network = SocialNetwork(agents)\n",
        "\n",
        "group_0_1_2 = social_network.create_group([0, 1, 2], models['DeepSeek-V3-0324']) #5. Group vs. 1-on-1 chats\n",
        "#6. Initial source of message"
      ],
      "metadata": {
        "id": "yT8IutesG4PL",
        "collapsed": true
      },
      "execution_count": null,
      "outputs": []
    },
    {
      "cell_type": "code",
      "source": [
        "social_network.draw_network()"
      ],
      "metadata": {
        "id": "cx9rzJTZVZWY"
      },
      "execution_count": null,
      "outputs": []
    },
    {
      "cell_type": "code",
      "source": [
        "prompt_start = \"Generate only the next message in the conversation, using your natural personality and communication style. Assume this is an online chat on social media, not an in-person conversation. If the chat history is empty, begin the conversation yourself—do not simulate the other participant's message.\"\n",
        "# 7- sentiment tone of initial message,\n",
        "# 8- Message type"
      ],
      "metadata": {
        "id": "yPWwlr3vm0n5"
      },
      "execution_count": null,
      "outputs": []
    },
    {
      "cell_type": "code",
      "source": [
        "group_0_1_2.communicate(prompt_start, 5) # 1. number of interactions per agent"
      ],
      "metadata": {
        "id": "PwxbDWOfkavY"
      },
      "execution_count": null,
      "outputs": []
    },
    {
      "cell_type": "code",
      "source": [
        "group_0_1_2.get_list_messages(group_0_1_2.members[0])"
      ],
      "metadata": {
        "id": "OcMs1-pXVfjM"
      },
      "execution_count": null,
      "outputs": []
    },
    {
      "cell_type": "code",
      "source": [
        "with open('exp1.json', 'w') as f:\n",
        "    json.dump(group_0_1_2.get_dict_chats(), f)"
      ],
      "metadata": {
        "id": "K4bXV7gPclxF"
      },
      "execution_count": null,
      "outputs": []
    }
  ]
}